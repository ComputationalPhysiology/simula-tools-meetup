{
  "nbformat": 4,
  "nbformat_minor": 0,
  "metadata": {
    "colab": {
      "name": "itertools_walkthrough.ipynb",
      "provenance": [],
      "collapsed_sections": []
    },
    "kernelspec": {
      "name": "python3",
      "display_name": "Python 3"
    },
    "language_info": {
      "name": "python"
    }
  },
  "cells": [
    {
      "cell_type": "markdown",
      "source": [
        "# Itertools\n",
        "\n",
        "## Agenda\n",
        "  * Iterable objects\n",
        "  * Iterators\n",
        "  * Generators\n",
        "  * Itertools\n",
        "    * Combinatorial operators\n",
        "      * cartesian product\n",
        "      * combinations\n",
        "      * combinations with replacement\n",
        "      * permutations\n",
        "    * Operations on iterators\n",
        "      * chain two iterables\n",
        "      * compress - choose elements of one iterable using a condition on another iterable\n",
        "      * starmap - apply a function on every element of a sequence\n",
        "      * cycle an iterable\n",
        "      * repeat an element n times \n",
        "    * and more: https://docs.python.org/3/library/itertools.html\n",
        "    * more complex functions on iterables: https://github.com/more-itertools/more-itertools\n",
        "    * toolz - extension of itertools: https://github.com/pytoolz/toolz\n",
        "    \n",
        "# Why is itertools worth discussing?\n",
        "* A module to work with basic iterators (counts) or to form more complex iterators\n",
        "* Memory and time-efficient iterations\n",
        "* Combinatorial operations\n"
      ],
      "metadata": {
        "id": "qVlH0kTzcwZE"
      }
    },
    {
      "cell_type": "code",
      "source": [
        "!python --version"
      ],
      "metadata": {
        "colab": {
          "base_uri": "https://localhost:8080/"
        },
        "id": "QU7mr_LwRVZL",
        "outputId": "555e41e0-b2eb-4fc4-f042-192ddcd5b16e"
      },
      "execution_count": 6,
      "outputs": [
        {
          "output_type": "stream",
          "name": "stdout",
          "text": [
            "Python 3.7.12\n"
          ]
        }
      ]
    },
    {
      "cell_type": "markdown",
      "source": [
        "## Iterable objects \n",
        "\n",
        "An object capable of returning its members one at a time.\n",
        "\n",
        "Examples:\n",
        "- list, tuple, str; \n",
        "- dict, file objects.\n",
        "\n",
        "Source: https://docs.python.org/3/glossary.html"
      ],
      "metadata": {
        "id": "L9YsB2OeMlD9"
      }
    },
    {
      "cell_type": "code",
      "source": [
        "# File is an iterable object\n",
        "# Creating a dummy file\n",
        "with open(\"test.txt\", 'w') as f:\n",
        "  for i in range(3):\n",
        "    f.write(\"Line {0}\\n\".format(i))"
      ],
      "metadata": {
        "id": "0-Rh61sXPUUq"
      },
      "execution_count": 7,
      "outputs": []
    },
    {
      "cell_type": "code",
      "source": [
        "# Iterating over lines in a file\n",
        "f = open(\"test.txt\", 'r')\n",
        "\n",
        "for line in f:\n",
        "  print(\"File content: \" + line)\n",
        "\n",
        "f.close()"
      ],
      "metadata": {
        "colab": {
          "base_uri": "https://localhost:8080/"
        },
        "id": "Tm77nPNTMk2g",
        "outputId": "79395730-130f-4f72-c9de-eba3e82dc369"
      },
      "execution_count": 8,
      "outputs": [
        {
          "output_type": "stream",
          "name": "stdout",
          "text": [
            "File content: Line 0\n",
            "\n",
            "File content: Line 1\n",
            "\n",
            "File content: Line 2\n",
            "\n"
          ]
        }
      ]
    },
    {
      "cell_type": "markdown",
      "source": [
        "*A typical typo leads to the error `'int' object is not iterable`*"
      ],
      "metadata": {
        "id": "BM9KYE0DWmxV"
      }
    },
    {
      "cell_type": "code",
      "source": [
        "# String is an iterable\n",
        "s = \"abcde\"\n",
        "for c in len(s):\n",
        "  print(s[c])"
      ],
      "metadata": {
        "colab": {
          "base_uri": "https://localhost:8080/",
          "height": 217
        },
        "id": "iyaMMHnHWl67",
        "outputId": "f343aaed-de0a-41bf-b4a7-1d557a09a2e5"
      },
      "execution_count": 9,
      "outputs": [
        {
          "output_type": "error",
          "ename": "TypeError",
          "evalue": "ignored",
          "traceback": [
            "\u001b[0;31m---------------------------------------------------------------------------\u001b[0m",
            "\u001b[0;31mTypeError\u001b[0m                                 Traceback (most recent call last)",
            "\u001b[0;32m<ipython-input-9-700a31aafd26>\u001b[0m in \u001b[0;36m<module>\u001b[0;34m()\u001b[0m\n\u001b[1;32m      1\u001b[0m \u001b[0;31m# String is an iterable\u001b[0m\u001b[0;34m\u001b[0m\u001b[0;34m\u001b[0m\u001b[0;34m\u001b[0m\u001b[0m\n\u001b[1;32m      2\u001b[0m \u001b[0ms\u001b[0m \u001b[0;34m=\u001b[0m \u001b[0;34m\"abcde\"\u001b[0m\u001b[0;34m\u001b[0m\u001b[0;34m\u001b[0m\u001b[0m\n\u001b[0;32m----> 3\u001b[0;31m \u001b[0;32mfor\u001b[0m \u001b[0mc\u001b[0m \u001b[0;32min\u001b[0m \u001b[0mlen\u001b[0m\u001b[0;34m(\u001b[0m\u001b[0ms\u001b[0m\u001b[0;34m)\u001b[0m\u001b[0;34m:\u001b[0m\u001b[0;34m\u001b[0m\u001b[0;34m\u001b[0m\u001b[0m\n\u001b[0m\u001b[1;32m      4\u001b[0m   \u001b[0mprint\u001b[0m\u001b[0;34m(\u001b[0m\u001b[0ms\u001b[0m\u001b[0;34m[\u001b[0m\u001b[0mc\u001b[0m\u001b[0;34m]\u001b[0m\u001b[0;34m)\u001b[0m\u001b[0;34m\u001b[0m\u001b[0;34m\u001b[0m\u001b[0m\n",
            "\u001b[0;31mTypeError\u001b[0m: 'int' object is not iterable"
          ]
        }
      ]
    },
    {
      "cell_type": "code",
      "source": [
        "print(\"Loop 1\")\n",
        "for c in s:\n",
        "  print(c)\n",
        "\n",
        "print(\"\\nLoop 2\")\n",
        "for c in range(len(s)):\n",
        "  print(s[c])"
      ],
      "metadata": {
        "colab": {
          "base_uri": "https://localhost:8080/"
        },
        "id": "WuY214M8W8ly",
        "outputId": "342b4bd3-561b-47fd-c4a3-839b38baac27"
      },
      "execution_count": 10,
      "outputs": [
        {
          "output_type": "stream",
          "name": "stdout",
          "text": [
            "Loop 1\n",
            "a\n",
            "b\n",
            "c\n",
            "d\n",
            "e\n",
            "\n",
            "Loop 2\n",
            "a\n",
            "b\n",
            "c\n",
            "d\n",
            "e\n"
          ]
        }
      ]
    },
    {
      "cell_type": "markdown",
      "source": [
        "\n",
        "\n",
        "Iterable is an object, which one can iterate over. It generates an Iterator when passed to iter() method. \n",
        "\n",
        "------------\n",
        "\n",
        "# Iterator\n",
        "\n",
        "* An object that iterates over an iterable using `__next__()` method; \n",
        "* `__next__()` method, which returns the next item of the object;\n",
        "*  `__next__()` raises StopIteration exception when the elements finish. \n",
        "\n",
        "\n",
        "Extras:\n",
        "\n",
        "Note that every iterator is also an iterable, but not every iterable is an iterator. For example, a list is iterable but a list is not an iterator. An iterator can be created from an iterable by using the function iter()\n",
        "\n",
        "Source: https://www.geeksforgeeks.org/python-difference-iterable-iterator/\n"
      ],
      "metadata": {
        "id": "EMDgSSBmSi03"
      }
    },
    {
      "cell_type": "code",
      "source": [
        "l = list((1,2,3,4,5))\n",
        "next(l)"
      ],
      "metadata": {
        "colab": {
          "base_uri": "https://localhost:8080/",
          "height": 183
        },
        "id": "_yQTW9Occ6-f",
        "outputId": "d16e0617-2d25-4bd3-a4b0-7f710075ac28"
      },
      "execution_count": 11,
      "outputs": [
        {
          "output_type": "error",
          "ename": "TypeError",
          "evalue": "ignored",
          "traceback": [
            "\u001b[0;31m---------------------------------------------------------------------------\u001b[0m",
            "\u001b[0;31mTypeError\u001b[0m                                 Traceback (most recent call last)",
            "\u001b[0;32m<ipython-input-11-4b2d4c997ca7>\u001b[0m in \u001b[0;36m<module>\u001b[0;34m()\u001b[0m\n\u001b[1;32m      1\u001b[0m \u001b[0ml\u001b[0m \u001b[0;34m=\u001b[0m \u001b[0mlist\u001b[0m\u001b[0;34m(\u001b[0m\u001b[0;34m(\u001b[0m\u001b[0;36m1\u001b[0m\u001b[0;34m,\u001b[0m\u001b[0;36m2\u001b[0m\u001b[0;34m,\u001b[0m\u001b[0;36m3\u001b[0m\u001b[0;34m,\u001b[0m\u001b[0;36m4\u001b[0m\u001b[0;34m,\u001b[0m\u001b[0;36m5\u001b[0m\u001b[0;34m)\u001b[0m\u001b[0;34m)\u001b[0m\u001b[0;34m\u001b[0m\u001b[0;34m\u001b[0m\u001b[0m\n\u001b[0;32m----> 2\u001b[0;31m \u001b[0mnext\u001b[0m\u001b[0;34m(\u001b[0m\u001b[0ml\u001b[0m\u001b[0;34m)\u001b[0m\u001b[0;34m\u001b[0m\u001b[0;34m\u001b[0m\u001b[0m\n\u001b[0m",
            "\u001b[0;31mTypeError\u001b[0m: 'list' object is not an iterator"
          ]
        }
      ]
    },
    {
      "cell_type": "code",
      "source": [
        "# Create an iterator for a list\n",
        "iterator_l = iter(l)"
      ],
      "metadata": {
        "id": "AB008lCnTX9C"
      },
      "execution_count": 12,
      "outputs": []
    },
    {
      "cell_type": "code",
      "source": [
        "next(iterator_l, 100)"
      ],
      "metadata": {
        "colab": {
          "base_uri": "https://localhost:8080/"
        },
        "id": "GpFOo2U8TgsZ",
        "outputId": "30a23c1d-298d-428f-b4af-2b94e4377662"
      },
      "execution_count": 20,
      "outputs": [
        {
          "output_type": "execute_result",
          "data": {
            "text/plain": [
              "100"
            ]
          },
          "metadata": {},
          "execution_count": 20
        }
      ]
    },
    {
      "cell_type": "markdown",
      "source": [
        "# Generator\n",
        "\n",
        "* a function that produces a sequence of results instead of a single value;\n",
        "* `yield` expression returns the output of the generator loop and suspends it until a later call of the `next` of the generator;\n",
        "* When a generator function is called, it returns a generator object without even beginning execution of the function. \n",
        "* When `next` method is called for the first time, the function starts executing until it reaches `yield` statement. \n",
        "The yielded value is returned by the next call.\n",
        "\n",
        "Sources:\n",
        "- https://anandology.com/python-practice-book/iterators.html#generators;\n",
        "- https://docs.python.org/3/reference/expressions.html#yieldexpr\n"
      ],
      "metadata": {
        "id": "0UyRosonSZb8"
      }
    },
    {
      "cell_type": "code",
      "source": [
        "def yield_range(n):\n",
        "  print(\"begin\")\n",
        "  for i in range(n):\n",
        "    print(\"before yield\", i)\n",
        "    yield i\n",
        "    print(\"after yield\", i)\n",
        "  print(\"end\")"
      ],
      "metadata": {
        "id": "3hfz26Hkd05e"
      },
      "execution_count": 21,
      "outputs": []
    },
    {
      "cell_type": "code",
      "source": [
        "y = yield_range(3)\n",
        "next(y)"
      ],
      "metadata": {
        "colab": {
          "base_uri": "https://localhost:8080/"
        },
        "id": "JJVprCUqgnku",
        "outputId": "a9425528-8aca-4d35-88be-7bcc4fb9fcf7"
      },
      "execution_count": 22,
      "outputs": [
        {
          "output_type": "stream",
          "name": "stdout",
          "text": [
            "begin\n",
            "before yield 0\n"
          ]
        },
        {
          "output_type": "execute_result",
          "data": {
            "text/plain": [
              "0"
            ]
          },
          "metadata": {},
          "execution_count": 22
        }
      ]
    },
    {
      "cell_type": "code",
      "source": [
        "next(y)"
      ],
      "metadata": {
        "colab": {
          "base_uri": "https://localhost:8080/"
        },
        "id": "SqgIOyhRgpom",
        "outputId": "d45ed594-0e53-4590-f47e-26bc7bdfc9af"
      },
      "execution_count": 23,
      "outputs": [
        {
          "output_type": "stream",
          "name": "stdout",
          "text": [
            "after yield 0\n",
            "before yield 1\n"
          ]
        },
        {
          "output_type": "execute_result",
          "data": {
            "text/plain": [
              "1"
            ]
          },
          "metadata": {},
          "execution_count": 23
        }
      ]
    },
    {
      "cell_type": "code",
      "source": [
        "next(y)"
      ],
      "metadata": {
        "colab": {
          "base_uri": "https://localhost:8080/"
        },
        "id": "D9FHWrsJgqnl",
        "outputId": "70b91810-78c5-4c38-cb83-9ee36fe1af9a"
      },
      "execution_count": 24,
      "outputs": [
        {
          "output_type": "stream",
          "name": "stdout",
          "text": [
            "after yield 1\n",
            "before yield 2\n"
          ]
        },
        {
          "output_type": "execute_result",
          "data": {
            "text/plain": [
              "2"
            ]
          },
          "metadata": {},
          "execution_count": 24
        }
      ]
    },
    {
      "cell_type": "code",
      "source": [
        "next(y)"
      ],
      "metadata": {
        "colab": {
          "base_uri": "https://localhost:8080/",
          "height": 200
        },
        "id": "CmFfMD3Fgr2V",
        "outputId": "cededeb8-b139-4704-ff3e-72d26fa731e9"
      },
      "execution_count": 25,
      "outputs": [
        {
          "output_type": "stream",
          "name": "stdout",
          "text": [
            "after yield 2\n",
            "end\n"
          ]
        },
        {
          "output_type": "error",
          "ename": "StopIteration",
          "evalue": "ignored",
          "traceback": [
            "\u001b[0;31m---------------------------------------------------------------------------\u001b[0m",
            "\u001b[0;31mStopIteration\u001b[0m                             Traceback (most recent call last)",
            "\u001b[0;32m<ipython-input-25-81b9d2f0f16a>\u001b[0m in \u001b[0;36m<module>\u001b[0;34m()\u001b[0m\n\u001b[0;32m----> 1\u001b[0;31m \u001b[0mnext\u001b[0m\u001b[0;34m(\u001b[0m\u001b[0my\u001b[0m\u001b[0;34m)\u001b[0m\u001b[0;34m\u001b[0m\u001b[0;34m\u001b[0m\u001b[0m\n\u001b[0m",
            "\u001b[0;31mStopIteration\u001b[0m: "
          ]
        }
      ]
    },
    {
      "cell_type": "code",
      "source": [
        "next(y, \"no more elements\")"
      ],
      "metadata": {
        "colab": {
          "base_uri": "https://localhost:8080/",
          "height": 35
        },
        "id": "JY5O7up6CDhs",
        "outputId": "e919c9d0-ee3f-473d-f4e3-eea45beb7009"
      },
      "execution_count": 26,
      "outputs": [
        {
          "output_type": "execute_result",
          "data": {
            "application/vnd.google.colaboratory.intrinsic+json": {
              "type": "string"
            },
            "text/plain": [
              "'no more elements'"
            ]
          },
          "metadata": {},
          "execution_count": 26
        }
      ]
    },
    {
      "cell_type": "markdown",
      "source": [
        "--------------\n",
        "\n",
        "# itertools\n",
        "* a module in the standard library;\n",
        "* functions in itertools “operate” on iterators to produce more complex iterators;\n",
        "\n",
        "Resources:\n",
        " - itertools docs: https://docs.python.org/3/library/itertools.html\n",
        " - a short overview: https://www.geeksforgeeks.org/python-itertools/\n",
        " - a good and long overview with examples: https://realpython.com/python-itertools/\n",
        " \n",
        "## Examples:\n",
        "* Combinatorial operators\n",
        "  * cartesian product\n",
        "  * combinations\n",
        "  * combinations with replacement\n",
        "  * permutations\n",
        "* Operations on iterators\n",
        "  * chain two iterables\n",
        "  * compress - choose elements of one iterable using a condition on another iterable\n",
        "  * starmap - apply a function on every element of a sequence\n",
        "  * cycle an iterable\n",
        "  * repeat an element n times "
      ],
      "metadata": {
        "id": "YLLYcTwkoXQ6"
      }
    },
    {
      "cell_type": "markdown",
      "source": [
        "## Combinatorial operators"
      ],
      "metadata": {
        "id": "lS4TMERiuAew"
      }
    },
    {
      "cell_type": "code",
      "source": [
        "import itertools\n",
        "\n",
        "# Cartesian product\n",
        "prod = itertools.product('ABCD', repeat=2)"
      ],
      "metadata": {
        "id": "OugysdO1oWSg"
      },
      "execution_count": 33,
      "outputs": []
    },
    {
      "cell_type": "code",
      "source": [
        "# prod is an iterator -> you can call next()\n",
        "# next(prod)"
      ],
      "metadata": {
        "id": "HOx5wr2Xp3mf"
      },
      "execution_count": 34,
      "outputs": []
    },
    {
      "cell_type": "code",
      "source": [
        "# For better visibility, convert an iterator to a list and print all elements at once\n",
        "print(list(prod))"
      ],
      "metadata": {
        "colab": {
          "base_uri": "https://localhost:8080/"
        },
        "id": "q7axntfIyCNS",
        "outputId": "5a1c2ed7-41e6-4b0e-ffba-72abd5f36da1"
      },
      "execution_count": 35,
      "outputs": [
        {
          "output_type": "stream",
          "name": "stdout",
          "text": [
            "[('A', 'A'), ('A', 'B'), ('A', 'C'), ('A', 'D'), ('B', 'A'), ('B', 'B'), ('B', 'C'), ('B', 'D'), ('C', 'A'), ('C', 'B'), ('C', 'C'), ('C', 'D'), ('D', 'A'), ('D', 'B'), ('D', 'C'), ('D', 'D')]\n"
          ]
        }
      ]
    },
    {
      "cell_type": "code",
      "source": [
        "# Combinations w, w/o replacement\n",
        "comb_no_replace = itertools.combinations('ABCD', r=2)\n",
        "comb = itertools.combinations_with_replacement('ABCD', r=2)"
      ],
      "metadata": {
        "id": "ghDpcriOgu39"
      },
      "execution_count": 36,
      "outputs": []
    },
    {
      "cell_type": "code",
      "source": [
        "print(list(comb_no_replace))\n",
        "print(list(comb))"
      ],
      "metadata": {
        "colab": {
          "base_uri": "https://localhost:8080/"
        },
        "id": "cPaGnRu_sYkH",
        "outputId": "59093473-0bac-4bbe-98fe-696307c5f30c"
      },
      "execution_count": 37,
      "outputs": [
        {
          "output_type": "stream",
          "name": "stdout",
          "text": [
            "[('A', 'B'), ('A', 'C'), ('A', 'D'), ('B', 'C'), ('B', 'D'), ('C', 'D')]\n",
            "[('A', 'A'), ('A', 'B'), ('A', 'C'), ('A', 'D'), ('B', 'B'), ('B', 'C'), ('B', 'D'), ('C', 'C'), ('C', 'D'), ('D', 'D')]\n"
          ]
        }
      ]
    },
    {
      "cell_type": "code",
      "source": [
        "p = itertools.permutations([1,2,3,4,5,6], r=3)"
      ],
      "metadata": {
        "id": "dTFdisLrsmv4"
      },
      "execution_count": 40,
      "outputs": []
    },
    {
      "cell_type": "code",
      "source": [
        "print(list(p))"
      ],
      "metadata": {
        "colab": {
          "base_uri": "https://localhost:8080/"
        },
        "id": "gzqHTje1tz6j",
        "outputId": "dbb20a80-e300-4f1e-cba8-dbd6094c6af7"
      },
      "execution_count": 41,
      "outputs": [
        {
          "output_type": "stream",
          "name": "stdout",
          "text": [
            "[(1, 2, 3), (1, 2, 4), (1, 2, 5), (1, 2, 6), (1, 3, 2), (1, 3, 4), (1, 3, 5), (1, 3, 6), (1, 4, 2), (1, 4, 3), (1, 4, 5), (1, 4, 6), (1, 5, 2), (1, 5, 3), (1, 5, 4), (1, 5, 6), (1, 6, 2), (1, 6, 3), (1, 6, 4), (1, 6, 5), (2, 1, 3), (2, 1, 4), (2, 1, 5), (2, 1, 6), (2, 3, 1), (2, 3, 4), (2, 3, 5), (2, 3, 6), (2, 4, 1), (2, 4, 3), (2, 4, 5), (2, 4, 6), (2, 5, 1), (2, 5, 3), (2, 5, 4), (2, 5, 6), (2, 6, 1), (2, 6, 3), (2, 6, 4), (2, 6, 5), (3, 1, 2), (3, 1, 4), (3, 1, 5), (3, 1, 6), (3, 2, 1), (3, 2, 4), (3, 2, 5), (3, 2, 6), (3, 4, 1), (3, 4, 2), (3, 4, 5), (3, 4, 6), (3, 5, 1), (3, 5, 2), (3, 5, 4), (3, 5, 6), (3, 6, 1), (3, 6, 2), (3, 6, 4), (3, 6, 5), (4, 1, 2), (4, 1, 3), (4, 1, 5), (4, 1, 6), (4, 2, 1), (4, 2, 3), (4, 2, 5), (4, 2, 6), (4, 3, 1), (4, 3, 2), (4, 3, 5), (4, 3, 6), (4, 5, 1), (4, 5, 2), (4, 5, 3), (4, 5, 6), (4, 6, 1), (4, 6, 2), (4, 6, 3), (4, 6, 5), (5, 1, 2), (5, 1, 3), (5, 1, 4), (5, 1, 6), (5, 2, 1), (5, 2, 3), (5, 2, 4), (5, 2, 6), (5, 3, 1), (5, 3, 2), (5, 3, 4), (5, 3, 6), (5, 4, 1), (5, 4, 2), (5, 4, 3), (5, 4, 6), (5, 6, 1), (5, 6, 2), (5, 6, 3), (5, 6, 4), (6, 1, 2), (6, 1, 3), (6, 1, 4), (6, 1, 5), (6, 2, 1), (6, 2, 3), (6, 2, 4), (6, 2, 5), (6, 3, 1), (6, 3, 2), (6, 3, 4), (6, 3, 5), (6, 4, 1), (6, 4, 2), (6, 4, 3), (6, 4, 5), (6, 5, 1), (6, 5, 2), (6, 5, 3), (6, 5, 4)]\n"
          ]
        }
      ]
    },
    {
      "cell_type": "markdown",
      "source": [
        "## Operations on iterators"
      ],
      "metadata": {
        "id": "Qm8NvtJ1uQLs"
      }
    },
    {
      "cell_type": "code",
      "source": [
        "# Chain two iterables\n",
        "first_list = [1]\n",
        "second_list = [2, 3, 4, 5]\n",
        "chained_lists = itertools.chain(first_list, second_list)"
      ],
      "metadata": {
        "id": "O188VJZPuPYA"
      },
      "execution_count": 42,
      "outputs": []
    },
    {
      "cell_type": "code",
      "source": [
        "first_list + second_list"
      ],
      "metadata": {
        "colab": {
          "base_uri": "https://localhost:8080/"
        },
        "id": "igEKuVmGLGXS",
        "outputId": "48de5d39-e53a-4ae9-ee96-26054f2d8c69"
      },
      "execution_count": 44,
      "outputs": [
        {
          "output_type": "execute_result",
          "data": {
            "text/plain": [
              "[1, 2, 3, 4, 5]"
            ]
          },
          "metadata": {},
          "execution_count": 44
        }
      ]
    },
    {
      "cell_type": "code",
      "source": [
        "print(list(chained_lists))"
      ],
      "metadata": {
        "colab": {
          "base_uri": "https://localhost:8080/"
        },
        "id": "FPrNssFavJsm",
        "outputId": "efeaa7de-9fea-4adf-931a-11dae47d7c70"
      },
      "execution_count": 43,
      "outputs": [
        {
          "output_type": "stream",
          "name": "stdout",
          "text": [
            "[1, 2, 3, 4, 5]\n"
          ]
        }
      ]
    },
    {
      "cell_type": "code",
      "source": [
        "# Compress \n",
        "# Choose elements of one iterable using a condition on another iterable\n",
        "# Result is based on the shortest iterable\n",
        "chosen_elems = itertools.compress([0, 1, 2, 3, 4, 5, 6, 7, 8, 9], \n",
        "                                  [0, 0, 0, 1, 1, 0, 1, 0, 1, 1, 1, 1])\n",
        "\n",
        "print(list(chosen_elems))"
      ],
      "metadata": {
        "colab": {
          "base_uri": "https://localhost:8080/"
        },
        "id": "Tkb9ro42t8p1",
        "outputId": "09316d02-10f0-4721-cfea-e7c789fd5538"
      },
      "execution_count": 46,
      "outputs": [
        {
          "output_type": "stream",
          "name": "stdout",
          "text": [
            "[3, 4, 6, 8, 9]\n"
          ]
        }
      ]
    },
    {
      "cell_type": "code",
      "source": [
        "chosen_chars = itertools.compress('ABCDEFGHIJKLM', \n",
        "                                  [True if x%3==0 else False for x in range(100)])\n",
        "print(list(chosen_chars))"
      ],
      "metadata": {
        "colab": {
          "base_uri": "https://localhost:8080/"
        },
        "id": "DPg9zfrbueTM",
        "outputId": "645726a0-865f-470a-e5ae-07cb65d8eb1b"
      },
      "execution_count": 47,
      "outputs": [
        {
          "output_type": "stream",
          "name": "stdout",
          "text": [
            "['A', 'D', 'G', 'J', 'M']\n"
          ]
        }
      ]
    },
    {
      "cell_type": "code",
      "source": [
        "# Starmap - apply a function on every element of a sequence\n",
        "\n",
        "mapped_list = itertools.starmap(lambda x, y: x+y, [(1,1), (1, 2), (1, 3)])\n",
        "print(list(mapped_list))"
      ],
      "metadata": {
        "colab": {
          "base_uri": "https://localhost:8080/"
        },
        "id": "9lsdVKIfwxCT",
        "outputId": "7a675052-6ae5-401d-a794-2885b17a6ded"
      },
      "execution_count": 48,
      "outputs": [
        {
          "output_type": "stream",
          "name": "stdout",
          "text": [
            "[2, 3, 4]\n"
          ]
        }
      ]
    },
    {
      "cell_type": "code",
      "source": [
        "# Cycle an iterable\n",
        "cycle = itertools.cycle('ABC')"
      ],
      "metadata": {
        "id": "WxNUc-B-wzNx"
      },
      "execution_count": 49,
      "outputs": []
    },
    {
      "cell_type": "code",
      "source": [
        "next(cycle)"
      ],
      "metadata": {
        "colab": {
          "base_uri": "https://localhost:8080/",
          "height": 35
        },
        "id": "BkwvTqYzymoD",
        "outputId": "8e0c3162-7ae4-42e0-e29c-f1f94c81d375"
      },
      "execution_count": 56,
      "outputs": [
        {
          "output_type": "execute_result",
          "data": {
            "application/vnd.google.colaboratory.intrinsic+json": {
              "type": "string"
            },
            "text/plain": [
              "'A'"
            ]
          },
          "metadata": {},
          "execution_count": 56
        }
      ]
    },
    {
      "cell_type": "code",
      "source": [
        "# Repeat an element n times\n",
        "list_copies = itertools.repeat([1,2,3], 3)\n",
        "str_copies = itertools.repeat('Simula', 3)"
      ],
      "metadata": {
        "id": "dpSupnK5zLux"
      },
      "execution_count": 61,
      "outputs": []
    },
    {
      "cell_type": "code",
      "source": [
        "print(list(list_copies))\n",
        "print(list(str_copies))"
      ],
      "metadata": {
        "colab": {
          "base_uri": "https://localhost:8080/"
        },
        "id": "8hF45MDFzaKJ",
        "outputId": "059a6607-efde-4b4e-8f97-74f7c0f7ba55"
      },
      "execution_count": 58,
      "outputs": [
        {
          "output_type": "stream",
          "name": "stdout",
          "text": [
            "[[1, 2, 3], [1, 2, 3], [1, 2, 3]]\n",
            "['Simula', 'Simula', 'Simula']\n"
          ]
        }
      ]
    },
    {
      "cell_type": "code",
      "source": [
        "list_copies = itertools.repeat([1,2,3], 3)\n",
        "print(list(itertools.chain(*list_copies)))"
      ],
      "metadata": {
        "colab": {
          "base_uri": "https://localhost:8080/"
        },
        "id": "g26HQR-oNHqD",
        "outputId": "05abe7f1-d463-4e84-eafd-1b1f95dfbcfd"
      },
      "execution_count": 67,
      "outputs": [
        {
          "output_type": "stream",
          "name": "stdout",
          "text": [
            "[1, 2, 3, 1, 2, 3, 1, 2, 3]\n"
          ]
        }
      ]
    },
    {
      "cell_type": "markdown",
      "source": [
        "-------------\n",
        "\n",
        "# Appendix\n",
        "\n",
        "## Custom iterators"
      ],
      "metadata": {
        "id": "RbfwOIDfcvDW"
      }
    },
    {
      "cell_type": "code",
      "source": [
        "# Custom integer iterator\n",
        "# Source: https://anandology.com/python-practice-book/iterators.html#iterators\n",
        "\n",
        "class yrange:\n",
        "    def __init__(self, n):\n",
        "        self.i = 0\n",
        "        self.n = n\n",
        "\n",
        "    def __iter__(self):\n",
        "        return self\n",
        "\n",
        "    def __next__(self):\n",
        "        if self.i < self.n:\n",
        "            i = self.i\n",
        "            self.i += 1\n",
        "            return i\n",
        "        else:\n",
        "            raise StopIteration()"
      ],
      "metadata": {
        "id": "5naZGLR-Zk4v"
      },
      "execution_count": 68,
      "outputs": []
    },
    {
      "cell_type": "code",
      "source": [
        "y = yrange(10)"
      ],
      "metadata": {
        "id": "_QDhD_yyZldq"
      },
      "execution_count": 69,
      "outputs": []
    },
    {
      "cell_type": "code",
      "source": [
        "next(y)"
      ],
      "metadata": {
        "colab": {
          "base_uri": "https://localhost:8080/"
        },
        "id": "SjwecsZXZoaS",
        "outputId": "b79f78b3-3e1e-466f-9af0-71f0096063e1"
      },
      "execution_count": 70,
      "outputs": [
        {
          "output_type": "execute_result",
          "data": {
            "text/plain": [
              "0"
            ]
          },
          "metadata": {},
          "execution_count": 70
        }
      ]
    },
    {
      "cell_type": "code",
      "source": [
        "# Custom iterator over a string, returns two objects\n",
        "\n",
        "ALPHABET = 'abcdefghijklmnopqrstuvwxyz'\n",
        "class alph_range:\n",
        "    def __init__(self, c):\n",
        "        self.i = ALPHABET.find(c)\n",
        "        self.c = c\n",
        "        self.n = 26\n",
        "\n",
        "    def __iter__(self):\n",
        "        return self\n",
        "\n",
        "    def __next__(self):\n",
        "        if self.i < self.n:\n",
        "          i = self.i\n",
        "          c = self.c\n",
        "          self.i += 1\n",
        "\n",
        "          if i == self.n-1:         \n",
        "            return i, c\n",
        "\n",
        "          self.c = ALPHABET[self.i]\n",
        "          return i, c\n",
        "        else:\n",
        "            raise StopIteration()"
      ],
      "metadata": {
        "id": "07AzL3KNa71Z"
      },
      "execution_count": 71,
      "outputs": []
    },
    {
      "cell_type": "code",
      "source": [
        "alph_iter = alph_range(\"y\")"
      ],
      "metadata": {
        "id": "YGZihsH1ZtfC"
      },
      "execution_count": 75,
      "outputs": []
    },
    {
      "cell_type": "code",
      "source": [
        "next(alph_iter)"
      ],
      "metadata": {
        "colab": {
          "base_uri": "https://localhost:8080/",
          "height": 252
        },
        "id": "7kdLpozfahrT",
        "outputId": "6bd8fdc8-71fe-480d-c157-53569bc8cbca"
      },
      "execution_count": 78,
      "outputs": [
        {
          "output_type": "error",
          "ename": "StopIteration",
          "evalue": "ignored",
          "traceback": [
            "\u001b[0;31m---------------------------------------------------------------------------\u001b[0m",
            "\u001b[0;31mStopIteration\u001b[0m                             Traceback (most recent call last)",
            "\u001b[0;32m<ipython-input-78-275cfe3e4ef4>\u001b[0m in \u001b[0;36m<module>\u001b[0;34m()\u001b[0m\n\u001b[0;32m----> 1\u001b[0;31m \u001b[0mnext\u001b[0m\u001b[0;34m(\u001b[0m\u001b[0malph_iter\u001b[0m\u001b[0;34m)\u001b[0m\u001b[0;34m\u001b[0m\u001b[0;34m\u001b[0m\u001b[0m\n\u001b[0m",
            "\u001b[0;32m<ipython-input-71-83984187238c>\u001b[0m in \u001b[0;36m__next__\u001b[0;34m(self)\u001b[0m\n\u001b[1;32m     23\u001b[0m           \u001b[0;32mreturn\u001b[0m \u001b[0mi\u001b[0m\u001b[0;34m,\u001b[0m \u001b[0mc\u001b[0m\u001b[0;34m\u001b[0m\u001b[0;34m\u001b[0m\u001b[0m\n\u001b[1;32m     24\u001b[0m         \u001b[0;32melse\u001b[0m\u001b[0;34m:\u001b[0m\u001b[0;34m\u001b[0m\u001b[0;34m\u001b[0m\u001b[0m\n\u001b[0;32m---> 25\u001b[0;31m             \u001b[0;32mraise\u001b[0m \u001b[0mStopIteration\u001b[0m\u001b[0;34m(\u001b[0m\u001b[0;34m)\u001b[0m\u001b[0;34m\u001b[0m\u001b[0;34m\u001b[0m\u001b[0m\n\u001b[0m",
            "\u001b[0;31mStopIteration\u001b[0m: "
          ]
        }
      ]
    },
    {
      "cell_type": "markdown",
      "source": [
        "# starmap in multiprocessing"
      ],
      "metadata": {
        "id": "tuvk4I0rtg0n"
      }
    },
    {
      "cell_type": "code",
      "source": [
        "import multiprocessing\n",
        "\n",
        "def f_sum(a, b):\n",
        "    return a + b\n",
        "\n",
        "process_pool = multiprocessing.Pool(3)\n",
        "data = [(1, 1), (2, 1), (3, 1)]\n",
        "output = process_pool.starmap(f_sum, data)\n",
        "\n",
        "print(output)"
      ],
      "metadata": {
        "colab": {
          "base_uri": "https://localhost:8080/"
        },
        "id": "UlWQnJxhakSi",
        "outputId": "785e7e76-6d35-449b-eb7d-2f54127b29f8"
      },
      "execution_count": 79,
      "outputs": [
        {
          "output_type": "stream",
          "name": "stdout",
          "text": [
            "[2, 3, 4]\n"
          ]
        }
      ]
    }
  ]
}