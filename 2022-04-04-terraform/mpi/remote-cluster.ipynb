{
 "cells": [
  {
   "cell_type": "code",
   "execution_count": 3,
   "id": "fb55a798-e1eb-4674-b6de-1f1c3921ed8a",
   "metadata": {},
   "outputs": [
    {
     "name": "stdout",
     "output_type": "stream",
     "text": [
      "root node: node-0.europe-west1-b.jupyter-simula\n",
      "4 cpus\n"
     ]
    }
   ],
   "source": [
    "from subprocess import run\n",
    "\n",
    "import ipyparallel as ipp\n",
    "from traitlets.config import Config\n",
    "\n",
    "\n",
    "def sh(cmd):\n",
    "    return run(cmd, capture_output=True, text=True).stdout\n",
    "\n",
    "\n",
    "def terraform_output(name):\n",
    "    return sh([\"terraform\", \"output\", \"-raw\", name])\n",
    "\n",
    "\n",
    "host = terraform_output(\"root-ssh\")\n",
    "n = int(terraform_output(\"n\"))\n",
    "\n",
    "print(\"root node:\", host)\n",
    "print(f\"{n} cpus\")\n"
   ]
  },
  {
   "cell_type": "code",
   "execution_count": 4,
   "id": "0d6ff642-a5e4-4231-b89c-3b932d15282f",
   "metadata": {},
   "outputs": [
    {
     "name": "stdout",
     "output_type": "stream",
     "text": [
      "Running `/opt/conda/bin/python3 -m ipyparallel.controller --ssh node-0.europe-west1-b.jupyter-simula`\n",
      "fetching /Users/minrk/dev/simula/tools-meetup/2022-04-04-terraform/mpi/security/ipcontroller-1649009986-xdh6-client.json from node-0.europe-west1-b.jupyter-simula:/shared/profile/security/ipcontroller-1649009986-xdh6-client.json\n",
      "fetching /Users/minrk/dev/simula/tools-meetup/2022-04-04-terraform/mpi/security/ipcontroller-1649009986-xdh6-engine.json from node-0.europe-west1-b.jupyter-simula:/shared/profile/security/ipcontroller-1649009986-xdh6-engine.json\n",
      "Starting 4 engines with <class 'ipyparallel.cluster.launcher.SSHProxyEngineSetLauncher'>\n",
      "ensuring remote node-0.europe-west1-b.jupyter-simula:/shared/profile/security/ exists\n",
      "sending /Users/minrk/dev/simula/tools-meetup/2022-04-04-terraform/mpi/security/ipcontroller-1649009986-xdh6-client.json to node-0.europe-west1-b.jupyter-simula:/shared/profile/security/ipcontroller-1649009986-xdh6-client.json\n",
      "ensuring remote node-0.europe-west1-b.jupyter-simula:/shared/profile/security/ exists\n",
      "sending /Users/minrk/dev/simula/tools-meetup/2022-04-04-terraform/mpi/security/ipcontroller-1649009986-xdh6-engine.json to node-0.europe-west1-b.jupyter-simula:/shared/profile/security/ipcontroller-1649009986-xdh6-engine.json\n",
      "Running `/opt/conda/bin/python3 -m ipyparallel.cluster engines -n 4 --profile-dir /shared/profile --cluster-id 1649009986-xdh6`\n"
     ]
    },
    {
     "data": {
      "application/vnd.jupyter.widget-view+json": {
       "model_id": "d5b400d242be4318ada7f29faff4ea65",
       "version_major": 2,
       "version_minor": 0
      },
      "text/plain": [
       "  0%|          | 0/4 [00:00<?, ?engine/s]"
      ]
     },
     "metadata": {},
     "output_type": "display_data"
    }
   ],
   "source": [
    "c = Config()\n",
    "\n",
    "c.SSHLauncher.hostname = host\n",
    "c.SSHLauncher.remote_python = \"/opt/conda/bin/python3\"\n",
    "\n",
    "c.SSHControllerLauncher.remote_profile_dir = \"/shared/profile\"\n",
    "# tunnel ssh\n",
    "c.SSHControllerLauncher.controller_args = [\"--ssh\", host]\n",
    "c.SSHProxyEngineSetLauncher.remote_profile_dir = \"/shared/profile\"\n",
    "\n",
    "cluster = ipp.Cluster(\n",
    "    controller=\"SSH\",\n",
    "    engines=\"SSHProxy\",\n",
    "    n=n,\n",
    "    config=c,\n",
    "    profile_dir=\".\",\n",
    ")\n",
    "\n",
    "rc = cluster.start_and_connect_sync(activate=True)"
   ]
  },
  {
   "cell_type": "code",
   "execution_count": 5,
   "id": "ad2ff61e-a8ad-41e9-bba6-bd250e54af1b",
   "metadata": {},
   "outputs": [
    {
     "data": {
      "text/plain": [
       "[stdout:2] node-1\r\n"
      ]
     },
     "metadata": {},
     "output_type": "display_data"
    },
    {
     "data": {
      "text/plain": [
       "[stdout:0] node-0\r\n"
      ]
     },
     "metadata": {},
     "output_type": "display_data"
    },
    {
     "data": {
      "text/plain": [
       "[stdout:3] node-1\r\n"
      ]
     },
     "metadata": {},
     "output_type": "display_data"
    },
    {
     "data": {
      "text/plain": [
       "[stdout:1] node-0\r\n"
      ]
     },
     "metadata": {},
     "output_type": "display_data"
    },
    {
     "name": "stderr",
     "output_type": "stream",
     "text": [
      "Exception in thread Exception in thread wait(host=node-0.europe-west1-b.jupyter-simula, pid=4423):\n",
      "Traceback (most recent call last):\n",
      "  File \"/Users/minrk/conda/lib/python3.9/threading.py\", line 973, in _bootstrap_inner\n",
      "Exception in thread wait(host=node-0.europe-west1-b.jupyter-simula, pid=4514):\n",
      "Traceback (most recent call last):\n",
      "  File \"/Users/minrk/conda/lib/python3.9/threading.py\", line 973, in _bootstrap_inner\n",
      "wait(host=node-0.europe-west1-b.jupyter-simula, pid=4382):\n",
      "Traceback (most recent call last):\n",
      "  File \"/Users/minrk/conda/lib/python3.9/threading.py\", line 973, in _bootstrap_inner\n",
      "Exception in thread wait(host=node-0.europe-west1-b.jupyter-simula, pid=4473):\n",
      "Traceback (most recent call last):\n",
      "  File \"/Users/minrk/conda/lib/python3.9/threading.py\", line 973, in _bootstrap_inner\n",
      "    self.run()\n",
      "  File \"/Users/minrk/conda/lib/python3.9/threading.py\", line 910, in run\n",
      "    self.run()\n",
      "  File \"/Users/minrk/conda/lib/python3.9/threading.py\", line 910, in run\n",
      "    self._target(*self._args, **self._kwargs)\n",
      "  File \"/Users/minrk/conda/lib/python3.9/site-packages/ipyparallel/cluster/launcher.py\", line 1317, in _wait\n",
      "    self._target(*self._args, **self._kwargs)\n",
      "  File \"/Users/minrk/conda/lib/python3.9/site-packages/ipyparallel/cluster/launcher.py\", line 1317, in _wait\n",
      "    self.run()\n",
      "  File \"/Users/minrk/conda/lib/python3.9/threading.py\", line 910, in run\n",
      "    self.run()\n",
      "  File \"/Users/minrk/conda/lib/python3.9/threading.py\", line 910, in run\n",
      "    self._target(*self._args, **self._kwargs)\n",
      "  File \"/Users/minrk/conda/lib/python3.9/site-packages/ipyparallel/cluster/launcher.py\", line 1317, in _wait\n",
      "    self._target(*self._args, **self._kwargs)\n",
      "  File \"/Users/minrk/conda/lib/python3.9/site-packages/ipyparallel/cluster/launcher.py\", line 1317, in _wait\n",
      "    exit_code = self.wait_one(timeout=self.poll_seconds)\n",
      "  File \"/Users/minrk/conda/lib/python3.9/site-packages/ipyparallel/cluster/launcher.py\", line 1345, in wait_one\n",
      "    exit_code = self.wait_one(timeout=self.poll_seconds)\n",
      "  File \"/Users/minrk/conda/lib/python3.9/site-packages/ipyparallel/cluster/launcher.py\", line 1345, in wait_one\n",
      "    exit_code = self.wait_one(timeout=self.poll_seconds)\n",
      "  File \"/Users/minrk/conda/lib/python3.9/site-packages/ipyparallel/cluster/launcher.py\", line 1345, in wait_one\n",
      "    exit_code = self.wait_one(timeout=self.poll_seconds)\n",
      "  File \"/Users/minrk/conda/lib/python3.9/site-packages/ipyparallel/cluster/launcher.py\", line 1345, in wait_one\n",
      "    out = check_output(full_cmd, input=None, start_new_session=True).decode(\n",
      "  File \"/Users/minrk/conda/lib/python3.9/subprocess.py\", line 424, in check_output\n",
      "    out = check_output(full_cmd, input=None, start_new_session=True).decode(\n",
      "  File \"/Users/minrk/conda/lib/python3.9/subprocess.py\", line 424, in check_output\n",
      "    out = check_output(full_cmd, input=None, start_new_session=True).decode(\n",
      "  File \"/Users/minrk/conda/lib/python3.9/subprocess.py\", line 424, in check_output\n",
      "    return run(*popenargs, stdout=PIPE, timeout=timeout, check=True,\n",
      "  File \"/Users/minrk/conda/lib/python3.9/subprocess.py\", line 528, in run\n",
      "    out = check_output(full_cmd, input=None, start_new_session=True).decode(\n",
      "  File \"/Users/minrk/conda/lib/python3.9/subprocess.py\", line 424, in check_output\n",
      "    return run(*popenargs, stdout=PIPE, timeout=timeout, check=True,\n",
      "  File \"/Users/minrk/conda/lib/python3.9/subprocess.py\", line 528, in run\n",
      "    return run(*popenargs, stdout=PIPE, timeout=timeout, check=True,\n",
      "  File \"/Users/minrk/conda/lib/python3.9/subprocess.py\", line 528, in run\n",
      "    raise CalledProcessError(retcode, process.args,\n",
      "subprocess.CalledProcessError: Command '['ssh', 'node-0.europe-west1-b.jupyter-simula', '--', '/opt/conda/bin/python3', '-c', \"'from ipyparallel.cluster.launcher import ssh_waitpid; ssh_waitpid(4423, timeout=60)'\"]' returned non-zero exit status 255.\n",
      "    return run(*popenargs, stdout=PIPE, timeout=timeout, check=True,\n",
      "  File \"/Users/minrk/conda/lib/python3.9/subprocess.py\", line 528, in run\n",
      "        raise CalledProcessError(retcode, process.args,\n",
      "subprocess.CalledProcessError: Command '['ssh', 'node-0.europe-west1-b.jupyter-simula', '--', '/opt/conda/bin/python3', '-c', \"'from ipyparallel.cluster.launcher import ssh_waitpid; ssh_waitpid(4514, timeout=60)'\"]' returned non-zero exit status 255.\n",
      "    raise CalledProcessError(retcode, process.args,\n",
      "subprocess.CalledProcessError: Command '['ssh', 'node-0.europe-west1-b.jupyter-simula', '--', '/opt/conda/bin/python3', '-c', \"'from ipyparallel.cluster.launcher import ssh_waitpid; ssh_waitpid(4382, timeout=60)'\"]' returned non-zero exit status 255.\n",
      "raise CalledProcessError(retcode, process.args,\n",
      "subprocess.CalledProcessError: Command '['ssh', 'node-0.europe-west1-b.jupyter-simula', '--', '/opt/conda/bin/python3', '-c', \"'from ipyparallel.cluster.launcher import ssh_waitpid; ssh_waitpid(4473, timeout=60)'\"]' returned non-zero exit status 255.\n"
     ]
    }
   ],
   "source": [
    "%%px\n",
    "!hostname"
   ]
  }
 ],
 "metadata": {
  "kernelspec": {
   "display_name": "Python 3 (ipykernel)",
   "language": "python",
   "name": "python3"
  },
  "language_info": {
   "codemirror_mode": {
    "name": "ipython",
    "version": 3
   },
   "file_extension": ".py",
   "mimetype": "text/x-python",
   "name": "python",
   "nbconvert_exporter": "python",
   "pygments_lexer": "ipython3",
   "version": "3.9.10"
  },
  "widgets": {
   "application/vnd.jupyter.widget-state+json": {
    "state": {
     "07851b0e064a41a49ba57c9e311b9ac6": {
      "model_module": "@jupyter-widgets/base",
      "model_module_version": "1.2.0",
      "model_name": "LayoutModel",
      "state": {}
     },
     "09813fe5f6f141efb765d92ee92e8278": {
      "model_module": "@jupyter-widgets/base",
      "model_module_version": "1.2.0",
      "model_name": "LayoutModel",
      "state": {}
     },
     "0ea46618c343431c8c2e0ae7be2cf357": {
      "model_module": "@jupyter-widgets/base",
      "model_module_version": "1.2.0",
      "model_name": "LayoutModel",
      "state": {}
     },
     "339d2e06caac483e97541a92af4dcc49": {
      "model_module": "@jupyter-widgets/base",
      "model_module_version": "1.2.0",
      "model_name": "LayoutModel",
      "state": {}
     },
     "371f1053a4d84cc29e7114ad5500343e": {
      "model_module": "@jupyter-widgets/controls",
      "model_module_version": "1.5.0",
      "model_name": "HTMLModel",
      "state": {
       "layout": "IPY_MODEL_0ea46618c343431c8c2e0ae7be2cf357",
       "style": "IPY_MODEL_7065d83e3f46442888769217800df87a",
       "value": " 4/4 [00:06&lt;00:00,  6.08s/engine]"
      }
     },
     "3ddeefb4d02046adbcc49381cb0ee2bd": {
      "model_module": "@jupyter-widgets/controls",
      "model_module_version": "1.5.0",
      "model_name": "DescriptionStyleModel",
      "state": {
       "description_width": ""
      }
     },
     "3ed883370de34369b0f2d2d7dfcd8f5b": {
      "model_module": "@jupyter-widgets/controls",
      "model_module_version": "1.5.0",
      "model_name": "HTMLModel",
      "state": {
       "layout": "IPY_MODEL_eb9e49f14dee48278b36d9a5aa61dbc4",
       "style": "IPY_MODEL_87b82b065237418ab239a005e2e5809f",
       "value": "100%"
      }
     },
     "54786cc2981348b888b0a46f23395a2d": {
      "model_module": "@jupyter-widgets/controls",
      "model_module_version": "1.5.0",
      "model_name": "HBoxModel",
      "state": {
       "children": [
        "IPY_MODEL_f1472aee58954bff8b30171b956187ef",
        "IPY_MODEL_7604aee51a3f41329f2f67b4a26c1015",
        "IPY_MODEL_371f1053a4d84cc29e7114ad5500343e"
       ],
       "layout": "IPY_MODEL_dcecc06bde344d26894e2b4c0e268389"
      }
     },
     "7065d83e3f46442888769217800df87a": {
      "model_module": "@jupyter-widgets/controls",
      "model_module_version": "1.5.0",
      "model_name": "DescriptionStyleModel",
      "state": {
       "description_width": ""
      }
     },
     "7604aee51a3f41329f2f67b4a26c1015": {
      "model_module": "@jupyter-widgets/controls",
      "model_module_version": "1.5.0",
      "model_name": "FloatProgressModel",
      "state": {
       "bar_style": "success",
       "layout": "IPY_MODEL_09813fe5f6f141efb765d92ee92e8278",
       "max": 4,
       "style": "IPY_MODEL_78011e15da1a409eaef7afd3b3db9da8",
       "value": 4
      }
     },
     "78011e15da1a409eaef7afd3b3db9da8": {
      "model_module": "@jupyter-widgets/controls",
      "model_module_version": "1.5.0",
      "model_name": "ProgressStyleModel",
      "state": {
       "description_width": ""
      }
     },
     "87b82b065237418ab239a005e2e5809f": {
      "model_module": "@jupyter-widgets/controls",
      "model_module_version": "1.5.0",
      "model_name": "DescriptionStyleModel",
      "state": {
       "description_width": ""
      }
     },
     "b6f6206ce42943e98dabe8dfab85caa7": {
      "model_module": "@jupyter-widgets/controls",
      "model_module_version": "1.5.0",
      "model_name": "HTMLModel",
      "state": {
       "layout": "IPY_MODEL_339d2e06caac483e97541a92af4dcc49",
       "style": "IPY_MODEL_e1fbb5908e5a4d5c81edf2848c924c7c",
       "value": " 4/4 [00:06&lt;00:00,  6.31s/engine]"
      }
     },
     "c903807889aa4ef18bbe419c3d75f0bf": {
      "model_module": "@jupyter-widgets/controls",
      "model_module_version": "1.5.0",
      "model_name": "FloatProgressModel",
      "state": {
       "bar_style": "success",
       "layout": "IPY_MODEL_f230699f72e44af0a6d521e334ac3f12",
       "max": 4,
       "style": "IPY_MODEL_e5bb0def8d904e3784d2e8443f7db6f1",
       "value": 4
      }
     },
     "d5b400d242be4318ada7f29faff4ea65": {
      "model_module": "@jupyter-widgets/controls",
      "model_module_version": "1.5.0",
      "model_name": "HBoxModel",
      "state": {
       "children": [
        "IPY_MODEL_3ed883370de34369b0f2d2d7dfcd8f5b",
        "IPY_MODEL_c903807889aa4ef18bbe419c3d75f0bf",
        "IPY_MODEL_b6f6206ce42943e98dabe8dfab85caa7"
       ],
       "layout": "IPY_MODEL_07851b0e064a41a49ba57c9e311b9ac6"
      }
     },
     "dcecc06bde344d26894e2b4c0e268389": {
      "model_module": "@jupyter-widgets/base",
      "model_module_version": "1.2.0",
      "model_name": "LayoutModel",
      "state": {}
     },
     "e1fbb5908e5a4d5c81edf2848c924c7c": {
      "model_module": "@jupyter-widgets/controls",
      "model_module_version": "1.5.0",
      "model_name": "DescriptionStyleModel",
      "state": {
       "description_width": ""
      }
     },
     "e5bb0def8d904e3784d2e8443f7db6f1": {
      "model_module": "@jupyter-widgets/controls",
      "model_module_version": "1.5.0",
      "model_name": "ProgressStyleModel",
      "state": {
       "description_width": ""
      }
     },
     "eb9e49f14dee48278b36d9a5aa61dbc4": {
      "model_module": "@jupyter-widgets/base",
      "model_module_version": "1.2.0",
      "model_name": "LayoutModel",
      "state": {}
     },
     "f1472aee58954bff8b30171b956187ef": {
      "model_module": "@jupyter-widgets/controls",
      "model_module_version": "1.5.0",
      "model_name": "HTMLModel",
      "state": {
       "layout": "IPY_MODEL_f3a1ec2afd144fbaa3fedea968001fb3",
       "style": "IPY_MODEL_3ddeefb4d02046adbcc49381cb0ee2bd",
       "value": "100%"
      }
     },
     "f230699f72e44af0a6d521e334ac3f12": {
      "model_module": "@jupyter-widgets/base",
      "model_module_version": "1.2.0",
      "model_name": "LayoutModel",
      "state": {}
     },
     "f3a1ec2afd144fbaa3fedea968001fb3": {
      "model_module": "@jupyter-widgets/base",
      "model_module_version": "1.2.0",
      "model_name": "LayoutModel",
      "state": {}
     }
    },
    "version_major": 2,
    "version_minor": 0
   }
  }
 },
 "nbformat": 4,
 "nbformat_minor": 5
}
